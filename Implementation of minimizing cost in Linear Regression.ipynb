{
 "cells": [
  {
   "cell_type": "code",
   "execution_count": 1,
   "metadata": {},
   "outputs": [],
   "source": [
    "import tensorflow as tf\n",
    "import matplotlib.pyplot as plt"
   ]
  },
  {
   "cell_type": "code",
   "execution_count": 5,
   "metadata": {},
   "outputs": [
    {
     "name": "stdout",
     "output_type": "stream",
     "text": [
      "0 3.6625876 [0.48851842]\n",
      "1 1.0418029 [0.7272098]\n",
      "2 0.296335 [0.8545119]\n",
      "3 0.08429082 [0.9224064]\n",
      "4 0.023976047 [0.95861673]\n",
      "5 0.0068198377 [0.97792894]\n",
      "6 0.0019398805 [0.98822874]\n",
      "7 0.0005517799 [0.993722]\n",
      "8 0.00015694674 [0.99665177]\n",
      "9 4.46449e-05 [0.99821424]\n",
      "10 1.2699184e-05 [0.9990476]\n",
      "11 3.6125593e-06 [0.99949205]\n",
      "12 1.0275357e-06 [0.9997291]\n",
      "13 2.922493e-07 [0.9998555]\n",
      "14 8.318197e-08 [0.99992293]\n",
      "15 2.3709688e-08 [0.9999589]\n",
      "16 6.7357178e-09 [0.99997807]\n",
      "17 1.9107347e-09 [0.9999883]\n",
      "18 5.506031e-10 [0.99999374]\n",
      "19 1.5597834e-10 [0.99999666]\n",
      "20 4.3499426e-11 [0.9999982]\n"
     ]
    }
   ],
   "source": [
    "x_data = [1,2,3]\n",
    "y_data = [1,2,3]\n",
    "\n",
    "X = tf.placeholder(tf.float32)\n",
    "Y = tf.placeholder(tf.float32)\n",
    "W = tf.Variable(tf.random_normal([1]), name = 'weight') # 임의로 값을 주면서 바꿀예정\n",
    "\n",
    "hypothesis = W * X\n",
    "\n",
    "cost = tf.reduce_sum(tf.square(hypothesis-Y))\n",
    "\n",
    "#이번에는 tensorflow에서 제공하는 최적화함수가 아닌 직접구현으로 minimize 시킬 예정\n",
    "learning_rate = 0.1\n",
    "gradient = tf.reduce_mean((W*X-Y)*X)\n",
    "descent = W - learning_rate * gradient\n",
    "update = W.assign(descent)\n",
    "\n",
    "\n",
    "sess = tf.Session()\n",
    "sess.run(tf.global_variables_initializer())\n",
    "\n",
    "#Variables for plotting cost function\n",
    "for step in range(21):\n",
    "    sess.run(update, feed_dict={X : x_data , Y : y_data})\n",
    "    print(step, sess.run(cost, feed_dict={X:x_data,Y:y_data}),sess.run(W))\n",
    "    "
   ]
  },
  {
   "cell_type": "code",
   "execution_count": null,
   "metadata": {},
   "outputs": [],
   "source": []
  }
 ],
 "metadata": {
  "kernelspec": {
   "display_name": "Python 3",
   "language": "python",
   "name": "python3"
  },
  "language_info": {
   "codemirror_mode": {
    "name": "ipython",
    "version": 3
   },
   "file_extension": ".py",
   "mimetype": "text/x-python",
   "name": "python",
   "nbconvert_exporter": "python",
   "pygments_lexer": "ipython3",
   "version": "3.6.10"
  }
 },
 "nbformat": 4,
 "nbformat_minor": 4
}
